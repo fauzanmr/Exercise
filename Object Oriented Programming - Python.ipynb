{
 "cells": [
  {
   "cell_type": "code",
   "execution_count": 45,
   "metadata": {},
   "outputs": [
    {
     "name": "stdout",
     "output_type": "stream",
     "text": [
      "total belanjaan setelah ditambah cemilan jadi: (48000, {'Sayur': 2, 'Buah': 3, 'Cemilan': 4})\n",
      "total belanjaan setelah dikurang sayur jadi: (43000, {'Sayur': 1, 'Buah': 3, 'Cemilan': 4})\n",
      "Uang kembalian: Rp.57000\n",
      "Pembayaran di atas Rp.100000 hanya bisa melalui kartu\n"
     ]
    }
   ],
   "source": [
    "# -----------------------------Fauzan Muhammad Rabbani--------------------------- \n",
    "# Parent Class\n",
    "class KeranjangBelanja(object):\n",
    "    #attributes\n",
    "    def __init__(self):\n",
    "        self.jumlah = 0\n",
    "        self.barang2 = {}\n",
    "    \n",
    "    #instance methods untuk menambah item, menghapus item, dan pembayaran\n",
    "    def tambah_item(self, barang, qty, harga):\n",
    "        self.jumlah += harga * qty\n",
    "        self.barang2.update({barang: qty})\n",
    "        return self.jumlah, self.barang2\n",
    "    \n",
    "    def hapus_item(self, barang, qty, harga):\n",
    "        if barang in self.barang2:\n",
    "            if qty < self.barang2[barang] and qty > 0:\n",
    "                self.barang2[barang] -= qty\n",
    "                self.jumlah -= harga * qty\n",
    "            elif qty >= self.barang2[barang]:\n",
    "                self.jumlah -= harga * self.barang2[barang]\n",
    "                del self.barang2[barang]\n",
    "            return  self.jumlah, self.barang2\n",
    "        \n",
    "    def bayar(self, cash):\n",
    "            if cash >= self.jumlah:\n",
    "                return \"Uang kembalian: Rp.\" + str(cash - self.jumlah)\n",
    "            else:\n",
    "                return \"Uang pembayaran kurang\"\n",
    "\n",
    "# Penerapan dari Inheritance, penurunan Child Class Belanja dari Parent class KeranjangBelanja\n",
    "\n",
    "class Belanja(KeranjangBelanja):\n",
    "\n",
    "# Penerapan Polymorphism dengan mengubah definisi pada method yang sudah ada pada Parent Class        \n",
    "    def bayar(self, cash):\n",
    "        if cash >= 100000:\n",
    "            return \"Pembayaran di atas Rp.100000 hanya bisa melalui kartu\"\n",
    "        else:\n",
    "            return \"Uang kembalian: Rp.\" + str(cash - self.jumlah)\n",
    "        \n",
    "Object = KeranjangBelanja()\n",
    "Object.tambah_item(\"Sayur\",2,5000)\n",
    "Object.tambah_item(\"Buah\",3,10000)\n",
    "\n",
    "print(\"total belanjaan setelah ditambah cemilan jadi: \" + str(Object.tambah_item(\"Cemilan\",4,2000)))\n",
    "print(\"total belanjaan setelah dikurang sayur jadi: \" + str(Object.hapus_item(\"Sayur\",1,5000)))\n",
    "print(Object.bayar(100000))\n",
    "\n",
    "Object = Belanja()\n",
    "print(Object.bayar(100000))"
   ]
  }
 ],
 "metadata": {
  "kernelspec": {
   "display_name": "Python 3",
   "language": "python",
   "name": "python3"
  },
  "language_info": {
   "codemirror_mode": {
    "name": "ipython",
    "version": 3
   },
   "file_extension": ".py",
   "mimetype": "text/x-python",
   "name": "python",
   "nbconvert_exporter": "python",
   "pygments_lexer": "ipython3",
   "version": "3.7.3"
  }
 },
 "nbformat": 4,
 "nbformat_minor": 2
}
